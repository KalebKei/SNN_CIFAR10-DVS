{
  "cells": [
    {
      "cell_type": "markdown",
      "id": "1dd8dbca",
      "metadata": {},
      "source": [
        "# Spiking Neural Network trained on CIFAR-10-DVS"
      ]
    },
    {
      "cell_type": "code",
      "execution_count": 1,
      "id": "0vdwiDC55bPN",
      "metadata": {
        "colab": {
          "base_uri": "https://localhost:8080/",
          "height": 1000
        },
        "id": "0vdwiDC55bPN",
        "outputId": "fa180413-ede6-42d6-abbb-1d6b0bfd119e"
      },
      "outputs": [
        {
          "name": "stdout",
          "output_type": "stream",
          "text": [
            "Numpy version: 1.26.4\n"
          ]
        }
      ],
      "source": [
        "import numpy\n",
        "print(f\"Numpy version: {numpy.version.version}\") # sanity check. Should be 1.26.4"
      ]
    },
    {
      "cell_type": "code",
      "execution_count": null,
      "id": "0719b6f1",
      "metadata": {
        "colab": {
          "base_uri": "https://localhost:8080/",
          "height": 339
        },
        "id": "0719b6f1",
        "outputId": "38338ae0-ea61-4163-d56d-0bec50414d56"
      },
      "outputs": [
        {
          "name": "stdout",
          "output_type": "stream",
          "text": [
            "Requirement already satisfied: scikit-learn in ./.EventCifarVenv/lib/python3.12/site-packages (1.6.1)\n",
            "Requirement already satisfied: numpy>=1.19.5 in ./.EventCifarVenv/lib/python3.12/site-packages (from scikit-learn) (1.26.4)\n",
            "Requirement already satisfied: scipy>=1.6.0 in ./.EventCifarVenv/lib/python3.12/site-packages (from scikit-learn) (1.15.3)\n",
            "Requirement already satisfied: joblib>=1.2.0 in ./.EventCifarVenv/lib/python3.12/site-packages (from scikit-learn) (1.5.0)\n",
            "Requirement already satisfied: threadpoolctl>=3.1.0 in ./.EventCifarVenv/lib/python3.12/site-packages (from scikit-learn) (3.6.0)\n",
            "Note: you may need to restart the kernel to use updated packages.\n"
          ]
        },
        {
          "name": "stderr",
          "output_type": "stream",
          "text": [
            "/home/kalebkei/AIResearch/Event-Based/SNN_CIFAR10-DVS/.EventCifarVenv/lib/python3.12/site-packages/tqdm/auto.py:21: TqdmWarning: IProgress not found. Please update jupyter and ipywidgets. See https://ipywidgets.readthedocs.io/en/stable/user_install.html\n",
            "  from .autonotebook import tqdm as notebook_tqdm\n"
          ]
        }
      ],
      "source": [
        "import tonic\n",
        "import tonic.transforms as transforms\n",
        "import snntorch as snn\n",
        "from sklearn.model_selection import train_test_split\n",
        "from torch.utils.data import DataLoader"
      ]
    },
    {
      "cell_type": "markdown",
      "id": "bcbe0a20",
      "metadata": {},
      "source": [
        "## Load the Dataset"
      ]
    },
    {
      "cell_type": "code",
      "execution_count": 3,
      "id": "d4424911",
      "metadata": {},
      "outputs": [
        {
          "name": "stdout",
          "output_type": "stream",
          "text": [
            "Number of training samples: 10000\n",
            "Classes: {'airplane': 0, 'automobile': 1, 'bird': 2, 'cat': 3, 'deer': 4, 'dog': 5, 'frog': 6, 'horse': 7, 'ship': 8, 'truck': 9}\n",
            "Sensor size: (128, 128, 2)\n",
            "Shape of first sample: (1304, 2, 128, 128)\n"
          ]
        }
      ],
      "source": [
        "# Get sensor dimensions for NMNIST dataset\n",
        "sensor_size = tonic.datasets.CIFAR10DVS.sensor_size\n",
        "\n",
        "# Define transformations for event data\n",
        "# - Denoise removes isolated events over 10000μs window\n",
        "# - ToFrame converts events to frames with 1000μs time window\n",
        "frame_transform = transforms.Compose([transforms.Denoise(filter_time=10000),\n",
        "                                      transforms.ToFrame(sensor_size=sensor_size,\n",
        "                                                         time_window=1000)\n",
        "                                     ])\n",
        "\n",
        "# Load NMNIST dataset with transformations\n",
        "dataset = tonic.datasets.CIFAR10DVS(save_to='./tmp/data', transform=frame_transform)\n",
        "\n",
        "# Print dataset information\n",
        "print(f\"Number of training samples: {len(dataset)}\")\n",
        "print(f\"Classes: {dataset.classes}\")\n",
        "print(f\"Sensor size: {dataset.sensor_size}\")\n",
        "# Print the shape of the first sample\n",
        "print(f\"Shape of first sample: {dataset[0][0].shape}\")"
      ]
    },
    {
      "cell_type": "markdown",
      "id": "eefac514",
      "metadata": {},
      "source": [
        "### Prep the dataset"
      ]
    },
    {
      "cell_type": "code",
      "execution_count": null,
      "id": "ba1daf6c",
      "metadata": {},
      "outputs": [],
      "source": [
        "# Split the dataset into training and test sets\n",
        "trainset, testset = train_test_split(dataset, test_size=0.2, random_state=42)\n",
        "\n",
        "# Print dataset information\n",
        "print(f\"Number of training samples: {len(trainset)}\")\n",
        "print(f\"Number of test samples: {len(testset)}\")\n",
        "print(f\"Sensor size: {sensor_size}\")\n",
        "print(f\"Number of classes: {dataset.classes}\")\n",
        "# Print the first sample in the training set\n",
        "print(f\"First sample in training set: {trainset[0]}\")\n",
        "# Print the first sample in the test set# Print the first sample in the training set"
      ]
    },
    {
      "cell_type": "code",
      "execution_count": null,
      "id": "f051d199",
      "metadata": {},
      "outputs": [],
      "source": [
        "# Create the dataloaders\n",
        "train_loader = DataLoader(trainset, batch_size=32, shuffle=True)\n",
        "test_loader = DataLoader(testset, batch_size=32, shuffle=False)\n",
        "\n",
        "# Print the first batch of training data\n",
        "for batch in train_loader:\n",
        "    print(f\"Batch shape: {batch[0].shape}\")\n",
        "    print(f\"Batch labels: {batch[1]}\")\n",
        "    break\n",
        "# Print the first batch of test data\n",
        "for batch in test_loader:\n",
        "    print(f\"Batch shape: {batch[0].shape}\")\n",
        "    print(f\"Batch labels: {batch[1]}\")\n",
        "    break"
      ]
    },
    {
      "cell_type": "markdown",
      "id": "07a2fa32",
      "metadata": {},
      "source": [
        "## Define the model"
      ]
    },
    {
      "cell_type": "code",
      "execution_count": null,
      "id": "a0ef54f7",
      "metadata": {},
      "outputs": [],
      "source": []
    }
  ],
  "metadata": {
    "colab": {
      "provenance": []
    },
    "kernelspec": {
      "display_name": ".EventCifarVenv",
      "language": "python",
      "name": "python3"
    },
    "language_info": {
      "codemirror_mode": {
        "name": "ipython",
        "version": 3
      },
      "file_extension": ".py",
      "mimetype": "text/x-python",
      "name": "python",
      "nbconvert_exporter": "python",
      "pygments_lexer": "ipython3",
      "version": "3.12.3"
    }
  },
  "nbformat": 4,
  "nbformat_minor": 5
}
