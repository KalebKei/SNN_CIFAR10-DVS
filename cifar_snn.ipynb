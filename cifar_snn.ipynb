{
 "cells": [
  {
   "cell_type": "markdown",
   "id": "1dc5869e",
   "metadata": {},
   "source": [
    "Temp"
   ]
  }
 ],
 "metadata": {
  "language_info": {
   "name": "python"
  }
 },
 "nbformat": 4,
 "nbformat_minor": 5
}
